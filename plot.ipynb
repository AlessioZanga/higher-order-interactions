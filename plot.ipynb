{
 "cells": [
  {
   "cell_type": "code",
   "execution_count": null,
   "id": "e3b13b38-b82b-4d87-8c0f-f35362b95364",
   "metadata": {},
   "outputs": [],
   "source": [
    "import os\n",
    "import glob\n",
    "import numpy as np\n",
    "import pandas as pd\n",
    "import matplotlib.patches as mpatches\n",
    "import matplotlib.pyplot as plt\n",
    "import matplotlib as mpl\n",
    "import seaborn as sns\n",
    "import warnings"
   ]
  },
  {
   "cell_type": "markdown",
   "id": "4dcbd3fa-850e-41e2-a90c-68c3d2befd50",
   "metadata": {},
   "source": [
    "## Load Results"
   ]
  },
  {
   "cell_type": "code",
   "execution_count": null,
   "id": "314cda0f-9c43-4cdf-ad1e-bb7eed5d1b9d",
   "metadata": {},
   "outputs": [],
   "source": [
    "# Replace `YYYYMMDD-HHMMSS` with the timestamp of the run.\n",
    "PATH = \"./results/YYYYMMDD-HHMMSS/\""
   ]
  },
  {
   "cell_type": "code",
   "execution_count": null,
   "id": "7119a67b-49fc-494c-a848-cde299b26256",
   "metadata": {},
   "outputs": [],
   "source": [
    "results =  list(glob.glob(PATH + \"aggregating/csv/*.csv\"))\n",
    "results += list(glob.glob(PATH + \"bootstrapping/csv/*.csv\"))\n",
    "print(len(results))"
   ]
  },
  {
   "cell_type": "code",
   "execution_count": null,
   "id": "a8534d80-96dc-42fe-8528-7950adcc14a0",
   "metadata": {},
   "outputs": [],
   "source": [
    "results = pd.concat([pd.read_csv(result, dtype = { \"sample_ratio\": str }) for result in results])\n",
    "results.set_index(\"id\", inplace=True)\n",
    "results.sort_values([\"bn\", \"sample_ratio\"], inplace=True)\n",
    "results.head()"
   ]
  },
  {
   "cell_type": "code",
   "execution_count": null,
   "id": "209e4ff1-02be-4f47-bb5d-9c1c27db5303",
   "metadata": {},
   "outputs": [],
   "source": [
    "results.drop(columns = [\"sensitivity\", \"specificity\", \"accuracy\", \"balanced_accuracy\"], inplace=True)"
   ]
  },
  {
   "cell_type": "code",
   "execution_count": null,
   "id": "012aba37-bea5-45b1-a7b9-ce3809ff2804",
   "metadata": {},
   "outputs": [],
   "source": [
    "stats = pd.read_csv(\"./stats.csv\")\n",
    "stats = stats.set_index(\"name\")\n",
    "stats.head()"
   ]
  },
  {
   "cell_type": "code",
   "execution_count": null,
   "id": "ca54e08a-08c3-4480-b9b4-0422f872c974",
   "metadata": {},
   "outputs": [],
   "source": [
    "order = sorted(dict.fromkeys(results[\"bn\"]).keys())\n",
    "order"
   ]
  },
  {
   "cell_type": "markdown",
   "id": "e9f7940c-6d2f-44f1-9cf5-4d0e7e0a66b0",
   "metadata": {},
   "source": [
    "## Plot Results"
   ]
  },
  {
   "cell_type": "code",
   "execution_count": null,
   "id": "93d2c5e9-429b-4149-a848-495817f2345d",
   "metadata": {},
   "outputs": [],
   "source": [
    "eps = np.finfo(float).eps"
   ]
  },
  {
   "cell_type": "code",
   "execution_count": null,
   "id": "ee79c8cb-41f5-4f92-b5ee-b2a33e00f56b",
   "metadata": {},
   "outputs": [],
   "source": [
    "sns.set_style(\"white\")\n",
    "sns.set_style(\n",
    "    \"ticks\",\n",
    "    {\n",
    "        \"axes.edgecolor\": \"0\",\n",
    "        \"xtick.color\": \"0\",\n",
    "        \"ytick.color\": \"0\"\n",
    "    }\n",
    ")\n",
    "sns.set_context(\"paper\", font_scale = 2.30)\n",
    "mpl.rcParams[\"axes.formatter.limits\"] = (-5, 3)"
   ]
  },
  {
   "cell_type": "markdown",
   "id": "eab43cf9-180a-4e0e-b90c-5cf77dccf7a6",
   "metadata": {},
   "source": [
    "### Aggregation"
   ]
  },
  {
   "cell_type": "code",
   "execution_count": null,
   "id": "eddb93fd-2fa2-4f0c-9c18-b4eedb3a9c6f",
   "metadata": {},
   "outputs": [],
   "source": [
    "groupby = dict((bn, r) for (bn, r) in results.groupby(\"bn\", sort=True))"
   ]
  },
  {
   "cell_type": "code",
   "execution_count": null,
   "id": "a6a976f4-333b-490a-879a-704bd9436372",
   "metadata": {},
   "outputs": [],
   "source": [
    "os.makedirs(PATH + \"plots\", exist_ok=True)"
   ]
  },
  {
   "cell_type": "code",
   "execution_count": null,
   "id": "b210e3e3-a921-4ebd-8a8b-dd4f15066d1c",
   "metadata": {},
   "outputs": [],
   "source": [
    "for bn in order:\n",
    "    r = groupby[bn]\n",
    "    # Select aggredated models.\n",
    "    colors = [\"red\", \"blue\", \"orange\", \"green\"] # [\"red\", \"red\", \"red\", \"red\", \"red\", \"green\", \"purple\"]\n",
    "    methods = [\"tma_0.50\", \"pma\", \"cma\", \"ima\"] # [\"tma_0.50\", \"tma_0.60\", \"tma_0.70\", \"tma_0.80\", \"tma_0.90\", \"sma\", \"uma\"]\n",
    "    linestyles = [\"-\", \"-\", \"-\", \"-\"] # [\"-\", (0, (1, 1)), (0, (1, 3)), (0, (1, 5)), (0, (1, 7)), \"-\", \"-\"]\n",
    "    # Normalize BIC.\n",
    "    with warnings.catch_warnings():\n",
    "        warnings.simplefilter(\"ignore\")\n",
    "        # Subselect dataset.\n",
    "        r = r[r[\"method\"].apply(lambda x: x in ([\"none\"] + methods))]\n",
    "        # Normalize BIC by sample_ratio.\n",
    "        if \"scaled_in_bic\" not in r.columns:\n",
    "            r.insert(5, \"scaled_in_bic\", r[\"in_bic\"].copy())\n",
    "            r.insert(6, \"scaled_out_bic\", r[\"out_bic\"].copy())\n",
    "            for c in [\"scaled_in_bic\", \"scaled_out_bic\"]:\n",
    "                for s in r[\"sample_ratio\"].unique():\n",
    "                    k = r[c].loc[r[\"sample_ratio\"] == s]\n",
    "                    r[c].loc[r[\"sample_ratio\"] == s] = (k - k.min()) / (k.max() - k.min() + eps)\n",
    "        # Drop non-normalized BIC.\n",
    "        if \"in_bic\" in r.columns:\n",
    "            r.drop([\"in_bic\", \"out_bic\"], axis=1, inplace=True)\n",
    "    # Groupby method.\n",
    "    r = dict((method, r) for (method, r) in r.groupby(\"method\", sort=True))\n",
    "    # Box plot.\n",
    "    g = pd.melt(\n",
    "        r[\"none\"],\n",
    "        id_vars = [\"bn\", \"sample_ratio\", \"method\"],\n",
    "        var_name = \"metric\",\n",
    "    )\n",
    "    g = sns.FacetGrid(\n",
    "        g,\n",
    "        col = \"metric\",\n",
    "        height = 5.5,\n",
    "        aspect = .75,\n",
    "        sharex = False,\n",
    "        sharey = False,\n",
    "        margin_titles = True\n",
    "    )\n",
    "    with warnings.catch_warnings():\n",
    "        warnings.simplefilter(\"ignore\")\n",
    "        g.map(sns.boxplot, \"sample_ratio\", \"value\", color = \"white\")\n",
    "    # Add average models.\n",
    "    for ((color, method), linestyle) in zip(zip(colors, methods), linestyles):\n",
    "        columns = list(r[method].columns)[3:]\n",
    "        for (i, column) in enumerate(columns):\n",
    "            ax = g.facet_axis(0, i)\n",
    "            if column in [\"scaled_in_bic\", \"scaled_out_bic\", \"f1\"]:\n",
    "                ax.set(ylim=(-0.05, 1.05))\n",
    "            if column in [\"shd\"]:\n",
    "                ax.set(ylim=(-0.05, None))\n",
    "            sns.lineplot(\n",
    "                data=r[method],\n",
    "                x=\"sample_ratio\",\n",
    "                y=column,\n",
    "                color=color,\n",
    "                linewidth=3,\n",
    "                linestyle=linestyle,\n",
    "                marker=\"o\",\n",
    "                markersize=9,\n",
    "                ax=ax\n",
    "            )\n",
    "            # Add vertical line.\n",
    "            ax.axvline(3.00, 0.05, 0.95, color = \"gray\", linestyle = \"--\")\n",
    "            # Add textes.\n",
    "            if column == columns[0]:\n",
    "                ax.text(1.95, 0.15, \"Low\", color = \"gray\", fontsize = 12, rotation = 90)\n",
    "                ax.text(2.40, 0.05, \"sample size\", color = \"gray\", fontsize = 12, rotation = 90)\n",
    "                ax.text(3.30, 0.15, \"High\", color = \"gray\", fontsize = 12, rotation = 90)\n",
    "                ax.text(3.75, 0.05, \"sample size\", color = \"gray\", fontsize = 12, rotation = 90)\n",
    "            # Fix y-label override.\n",
    "            if i == 0:\n",
    "                ax.set_ylabel(bn.split(\"-\")[1].upper(), labelpad = 15)\n",
    "            else:\n",
    "                ax.set_ylabel(None)\n",
    "    xticks = [ax.get_xticklabels() for ax in g.axes.flat]\n",
    "    sns.despine(offset = 2.5, trim = True)\n",
    "    for (i, ax) in enumerate(g.axes.flat):\n",
    "        _ = ax.set_xlabel(ax.get_xlabel(), labelpad=12)\n",
    "        _ = ax.set_xticklabels(xticks[i], rotation=90)\n",
    "    handles=[\n",
    "        mpatches.Patch(color=\"gray\", label=\"Bootstrap\"),\n",
    "        mpatches.Patch(color=\"red\", label=\"TMA\"),\n",
    "        mpatches.Patch(color=\"blue\", label=\"PMA\"),\n",
    "        mpatches.Patch(color=\"orange\", label=\"CMA\"),\n",
    "        mpatches.Patch(color=\"green\", label=\"IMA\"),\n",
    "    ]\n",
    "    plt.figlegend(handles=handles, bbox_to_anchor=(0.775, 0.01), ncol=len(handles))\n",
    "    plt.savefig(PATH + \"plots/\" + bn + \".pdf\", bbox_inches=\"tight\")\n",
    "    plt.show()\n",
    "    plt.close()"
   ]
  },
  {
   "cell_type": "code",
   "execution_count": null,
   "id": "115fcf3c-f9f6-4da0-94cd-4106c0b8c510",
   "metadata": {},
   "outputs": [],
   "source": []
  }
 ],
 "metadata": {
  "kernelspec": {
   "display_name": "Python 3 (ipykernel)",
   "language": "python",
   "name": "python3"
  },
  "language_info": {
   "codemirror_mode": {
    "name": "ipython",
    "version": 3
   },
   "file_extension": ".py",
   "mimetype": "text/x-python",
   "name": "python",
   "nbconvert_exporter": "python",
   "pygments_lexer": "ipython3",
   "version": "3.12.2"
  }
 },
 "nbformat": 4,
 "nbformat_minor": 5
}
